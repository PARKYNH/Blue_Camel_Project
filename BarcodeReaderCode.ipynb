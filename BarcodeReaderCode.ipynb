{
 "cells": [
  {
   "cell_type": "code",
   "execution_count": 5,
   "id": "777fd5c1",
   "metadata": {},
   "outputs": [
    {
     "name": "stdout",
     "output_type": "stream",
     "text": [
      "Requirement already satisfied: opencv-python in c:\\users\\admin\\anaconda3\\envs\\mystart\\lib\\site-packages (4.6.0.66)\n",
      "Requirement already satisfied: numpy>=1.17.3 in c:\\users\\admin\\anaconda3\\envs\\mystart\\lib\\site-packages (from opencv-python) (1.23.1)\n",
      "Requirement already satisfied: pyzbar in c:\\users\\admin\\anaconda3\\envs\\mystart\\lib\\site-packages (0.1.9)\n",
      "Collecting playsound==1.2.2\n",
      "  Downloading playsound-1.2.2-py2.py3-none-any.whl (6.0 kB)\n",
      "Installing collected packages: playsound\n",
      "Successfully installed playsound-1.2.2\n"
     ]
    }
   ],
   "source": [
    "!pip install opencv-python\n",
    "!pip install pyzbar\n",
    "!pip install playsound==1.2.2"
   ]
  },
  {
   "cell_type": "code",
   "execution_count": 2,
   "id": "b11e5586",
   "metadata": {},
   "outputs": [],
   "source": [
    "import cv2\n",
    "import pyzbar.pyzbar as pyzbar\n",
    "from playsound import playsound\n",
    "\n",
    "used_codes = []\n",
    "data_list = []\n",
    "\n",
    "try:\n",
    "    f = open(\"qrbarcode_data.txt\", \"r\", encoding=\"utf8\")\n",
    "    data_list = f.readlines()\n",
    "except FileNotFoundError:\n",
    "    pass\n",
    "else:\n",
    "    f.close()\n",
    "\n",
    "cap = cv2.VideoCapture(0)\n",
    "cap.set(3, 640)\n",
    "cap.set(4, 480)\n",
    "\n",
    "for i in data_list:\n",
    "    used_codes.append(i.rstrip('\\n'))\n",
    "\n",
    "while True:\n",
    "    success, frame = cap.read()\n",
    "\n",
    "    for code in pyzbar.decode(frame):\n",
    "        cv2.imwrite('qrbarcode_image.png', frame)\n",
    "        my_code = code.data.decode('utf-8')\n",
    "        if my_code not in used_codes:\n",
    "            print(\"인식 성공 : \", my_code)\n",
    "            playsound(\"qrbarcode_beep.mp3\")\n",
    "            used_codes.append(my_code)\n",
    "\n",
    "            f2 = open(\"qrbarcode_data.txt\", \"a\", encoding=\"utf8\")\n",
    "            f2.write(my_code+'\\n')\n",
    "            f2.close()\n",
    "        elif my_code in used_codes:\n",
    "            print(\"이미 인식된 코드 입니다.!!!\")\n",
    "            playsound(\"qrbarcode_beep.mp3\")\n",
    "        else:\n",
    "            pass\n",
    "        \n",
    "    key = cv2.waitKey(1)\n",
    "    if key == 27:\n",
    "        break\n",
    "    \n",
    "    cv2.imshow('QRcode Barcode Scan', frame)\n",
    "    cv2.waitKey(1)\n",
    "cap.release()\n",
    "cv2.destroyAllWindows()"
   ]
  },
  {
   "cell_type": "code",
   "execution_count": null,
   "id": "12738d25",
   "metadata": {},
   "outputs": [],
   "source": []
  }
 ],
 "metadata": {
  "kernelspec": {
   "display_name": "Python 3 (ipykernel)",
   "language": "python",
   "name": "python3"
  },
  "language_info": {
   "codemirror_mode": {
    "name": "ipython",
    "version": 3
   },
   "file_extension": ".py",
   "mimetype": "text/x-python",
   "name": "python",
   "nbconvert_exporter": "python",
   "pygments_lexer": "ipython3",
   "version": "3.9.13"
  }
 },
 "nbformat": 4,
 "nbformat_minor": 5
}
